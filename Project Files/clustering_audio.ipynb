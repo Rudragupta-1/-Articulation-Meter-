{
 "cells": [
  {
   "cell_type": "code",
   "execution_count": null,
   "metadata": {},
   "outputs": [],
   "source": [
    "import pandas as pd\n",
    "import numpy as np\n",
    "from sklearn.preprocessing import StandardScaler\n",
    "from sklearn.cluster import KMeans\n",
    "from sklearn.decomposition import PCA\n",
    "import matplotlib.pyplot as plt\n",
    "\n",
    "# Load the data\n",
    "excel_file = '/home/rudra/Documents/GitHub/Articulation-Meter/Project Files/merged_excel_file.xlsx'\n",
    "df = pd.read_excel(excel_file)\n",
    "\n",
    "# Preprocess the data\n",
    "# Convert MFCCs column from string to list of floats\n",
    "df['MFCCs'] = df['MFCCs'].apply(lambda x: [float(i) for i in x.strip('[]').split(',')])\n",
    "\n",
    "# Remove outliers using IQR method\n",
    "def remove_outliers_iqr(df, column):\n",
    "    q1 = df[column].quantile(0.25)\n",
    "    q3 = df[column].quantile(0.75)\n",
    "    iqr = q3 - q1\n",
    "    lower_bound = q1 - 1.5 * iqr\n",
    "    upper_bound = q3 + 1.5 * iqr\n",
    "    df_filtered = df[(df[column] >= lower_bound) & (df[column] <= upper_bound)]\n",
    "    return df_filtered\n",
    "\n",
    "# Remove outliers from numerical columns\n",
    "numerical_cols = ['duration', 'likes', 'views', 'Energy', 'Pitch', 'Speech Rate Variation', 'Articulation Rate', 'Frequency']\n",
    "for col in numerical_cols:\n",
    "    df = remove_outliers_iqr(df, col)\n",
    "\n",
    "# Feature Scaling\n",
    "scaler = StandardScaler()\n",
    "df_scaled = scaler.fit_transform(df.drop(columns=['MFCCs']))\n",
    "\n",
    "# Clustering\n",
    "# Choose the number of clusters (you can tune this)\n",
    "n_clusters = 3\n",
    "kmeans = KMeans(n_clusters=n_clusters, random_state=42)\n",
    "df['cluster'] = kmeans.fit_predict(df_scaled)\n",
    "\n",
    "# Dimensionality Reduction (if needed)\n",
    "pca = PCA(n_components=2)\n",
    "df_pca = pca.fit_transform(df_scaled)\n",
    "\n",
    "# Visualization (Optional)\n",
    "plt.figure(figsize=(10, 6))\n",
    "plt.scatter(df_pca[:, 0], df_pca[:, 1], c=df['cluster'], cmap='viridis', marker='o', alpha=0.5)\n",
    "plt.title('Clustering of Data')\n",
    "plt.xlabel('Principal Component 1')\n",
    "plt.ylabel('Principal Component 2')\n",
    "plt.colorbar(label='Cluster')\n",
    "plt.show()\n",
    "\n",
    "# Output the clustered data\n",
    "output_file = 'clustered_data.xlsx'\n",
    "df.to_excel(output_file, index=False)\n"
   ]
  }
 ],
 "metadata": {
  "kernelspec": {
   "display_name": "my_env",
   "language": "python",
   "name": "python3"
  },
  "language_info": {
   "codemirror_mode": {
    "name": "ipython",
    "version": 3
   },
   "file_extension": ".py",
   "mimetype": "text/x-python",
   "name": "python",
   "nbconvert_exporter": "python",
   "pygments_lexer": "ipython3",
   "version": "3.12.3"
  }
 },
 "nbformat": 4,
 "nbformat_minor": 2
}
