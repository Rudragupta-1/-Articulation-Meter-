{
 "cells": [
  {
   "cell_type": "code",
   "execution_count": null,
   "metadata": {},
   "outputs": [],
   "source": [
    "pip install opencv-python mediapipe pandas seaborn matplotlib"
   ]
  },
  {
   "cell_type": "code",
   "execution_count": null,
   "metadata": {},
   "outputs": [],
   "source": [
    "pip install pandas seaborn matplotlib openpyxl"
   ]
  },
  {
   "cell_type": "code",
   "execution_count": null,
   "metadata": {},
   "outputs": [],
   "source": [
    "import pandas as pd\n",
    "\n",
    "# Load data from Excel file\n",
    "file_path = '/home/jyoti/Documents/GitHub/Articulation-Meter/Project Files/btp_list copy.xlsx'\n",
    "df = pd.read_excel(file_path)\n",
    "\n",
    "# Print DataFrame info and first few rows to diagnose\n",
    "print(df.info())\n",
    "print(df.head())"
   ]
  },
  {
   "cell_type": "code",
   "execution_count": null,
   "metadata": {},
   "outputs": [],
   "source": [
    "import pandas as pd\n",
    "import numpy as np\n",
    "import seaborn as sns\n",
    "import matplotlib.pyplot as plt\n",
    "\n",
    "# Read the Excel file\n",
    "df = pd.read_excel('btp_list copy.xlsx')\n",
    "\n",
    "# Select columns that are likely to be numeric features\n",
    "feature_columns = ['shoulder_midpoints', 'head_turn_angles', 'left_hand', 'right_hand']\n",
    "\n",
    "# Function to convert string of comma-separated values to a list of floats\n",
    "def string_to_float_list(s):\n",
    "    if isinstance(s, (int, float)):\n",
    "        return [float(s)]\n",
    "    elif isinstance(s, str):\n",
    "        return [float(x.strip()) for x in s.split(',')]\n",
    "    else:\n",
    "        return []\n",
    "\n",
    "# Create a new DataFrame with only the selected features, converting each to a list of floats\n",
    "features_df = df[feature_columns].applymap(string_to_float_list)\n",
    "\n",
    "# Calculate the mean of each list to get a single value per cell\n",
    "features_df = features_df.applymap(lambda x: np.mean(x) if x else np.nan)\n",
    "\n",
    "# Calculate the correlation matrix\n",
    "corr_matrix = features_df.corr()\n",
    "\n",
    "# Create a heatmap\n",
    "plt.figure(figsize=(10, 8))\n",
    "sns.heatmap(corr_matrix, annot=True, cmap='coolwarm', vmin=-1, vmax=1, center=0)\n",
    "plt.title('Correlation Heatmap of YouTube Video Features')\n",
    "plt.tight_layout()\n",
    "plt.show()"
   ]
  }
 ],
 "metadata": {
  "kernelspec": {
   "display_name": "myenv",
   "language": "python",
   "name": "python3"
  },
  "language_info": {
   "codemirror_mode": {
    "name": "ipython",
    "version": 3
   },
   "file_extension": ".py",
   "mimetype": "text/x-python",
   "name": "python",
   "nbconvert_exporter": "python",
   "pygments_lexer": "ipython3",
   "version": "3.12.3"
  }
 },
 "nbformat": 4,
 "nbformat_minor": 2
}
