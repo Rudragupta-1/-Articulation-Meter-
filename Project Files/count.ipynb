{
 "cells": [
  {
   "cell_type": "code",
   "execution_count": 5,
   "metadata": {},
   "outputs": [
    {
     "name": "stdout",
     "output_type": "stream",
     "text": [
      "Comment Count: 190\n"
     ]
    }
   ],
   "source": [
    "import requests\n",
    "from bs4 import BeautifulSoup\n",
    "import re\n",
    "import json\n",
    "\n",
    "def get_comment_count(video_url):\n",
    "    # Send a request to the YouTube video page\n",
    "    response = requests.get(video_url)\n",
    "    if response.status_code != 200:\n",
    "        raise Exception('Failed to load page')\n",
    "\n",
    "    # Parse the HTML content of the page\n",
    "    soup = BeautifulSoup(response.text, 'html.parser')\n",
    "\n",
    "    # Search for the initial data using a regex pattern\n",
    "    script_tags = soup.find_all('script')\n",
    "    for script in script_tags:\n",
    "        if 'var ytInitialData' in script.text:\n",
    "            # Extract the JSON data embedded in the script tag\n",
    "            json_text = re.search(r'var ytInitialData = ({.*?});', script.string).group(1)\n",
    "            json_data = json.loads(json_text)\n",
    "\n",
    "            # Navigate the JSON data to find the comment count\n",
    "            try:\n",
    "                comment_count = json_data['contents']['twoColumnWatchNextResults']['results']['results']['contents'][2]['itemSectionRenderer']['contents'][0]['commentsEntryPointHeaderRenderer']['commentCount']['simpleText']\n",
    "                return comment_count\n",
    "            except KeyError:\n",
    "                return 'Comment count not found in the expected location'\n",
    "\n",
    "    return 'Comment count not found'\n",
    "\n",
    "if __name__ == '__main__':\n",
    "    # Replace with your YouTube video URL\n",
    "    video_url = 'https://youtu.be/iE9HMudybyc?si=9XjRnYxOED0pkXmK'\n",
    "    try:\n",
    "        comment_count = get_comment_count(video_url)\n",
    "        print(f\"Comment Count: {comment_count}\")\n",
    "    except Exception as e:\n",
    "        print(f\"Error: {e}\")\n"
   ]
  }
 ],
 "metadata": {
  "kernelspec": {
   "display_name": "my_env",
   "language": "python",
   "name": "python3"
  },
  "language_info": {
   "codemirror_mode": {
    "name": "ipython",
    "version": 3
   },
   "file_extension": ".py",
   "mimetype": "text/x-python",
   "name": "python",
   "nbconvert_exporter": "python",
   "pygments_lexer": "ipython3",
   "version": "3.12.3"
  }
 },
 "nbformat": 4,
 "nbformat_minor": 2
}
