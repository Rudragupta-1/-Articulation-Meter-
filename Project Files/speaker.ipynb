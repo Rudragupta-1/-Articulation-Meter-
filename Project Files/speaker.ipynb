{
 "cells": [
  {
   "cell_type": "code",
   "execution_count": 2,
   "metadata": {},
   "outputs": [],
   "source": [
    "import pandas as pd\n",
    "import json\n",
    "\n",
    "# Path to your Excel file containing the dataset\n",
    "excel_file = '/home/koyilada-keerti/Documents/GitHub/Articulation-Meter/Project Files/ted _data.xlsx'\n",
    "\n",
    "# Read the Excel file into a DataFrame\n",
    "df = pd.read_excel(excel_file)\n",
    "\n",
    "# Create a new column for speaker names\n",
    "df['Speaker Names'] = ''\n",
    "\n",
    "# Assuming 'speakers' is the column containing speaker names in JSON format\n",
    "# Adjust the column name if it's different in your dataset\n",
    "for index, row in df.iterrows():\n",
    "    speaker_names = []\n",
    "    try:\n",
    "        speakers_info = json.loads(row['speakers'])\n",
    "        for speaker_info in speakers_info:\n",
    "            speaker_names.append(speaker_info['name'])\n",
    "    except ValueError:\n",
    "        pass  # Skip rows where JSON parsing fails\n",
    "    df.at[index, 'Speaker Names'] = ', '.join(speaker_names)\n",
    "\n",
    "# Write the updated DataFrame back to the Excel file\n",
    "df.to_excel(excel_file, index=False)\n",
    "\n"
   ]
  }
 ],
 "metadata": {
  "kernelspec": {
   "display_name": "my_env",
   "language": "python",
   "name": "python3"
  },
  "language_info": {
   "codemirror_mode": {
    "name": "ipython",
    "version": 3
   },
   "file_extension": ".py",
   "mimetype": "text/x-python",
   "name": "python",
   "nbconvert_exporter": "python",
   "pygments_lexer": "ipython3",
   "version": "3.12.3"
  }
 },
 "nbformat": 4,
 "nbformat_minor": 2
}
