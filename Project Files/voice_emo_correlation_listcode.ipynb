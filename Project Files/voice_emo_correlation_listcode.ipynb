{
 "cells": [
  {
   "cell_type": "code",
   "execution_count": null,
   "metadata": {},
   "outputs": [],
   "source": [
    "pip install openpyxl"
   ]
  },
  {
   "cell_type": "code",
   "execution_count": null,
   "metadata": {},
   "outputs": [],
   "source": [
    "pip install librosa openpyxl pandas numpy"
   ]
  },
  {
   "cell_type": "code",
   "execution_count": null,
   "metadata": {},
   "outputs": [],
   "source": [
    "pip install --upgrade youtube-dl"
   ]
  },
  {
   "cell_type": "code",
   "execution_count": null,
   "metadata": {},
   "outputs": [],
   "source": [
    "pip install librosa --upgrade"
   ]
  },
  {
   "cell_type": "code",
   "execution_count": null,
   "metadata": {},
   "outputs": [],
   "source": [
    "pip install yt-dlp"
   ]
  },
  {
   "cell_type": "code",
   "execution_count": null,
   "metadata": {},
   "outputs": [],
   "source": [
    "import subprocess\n",
    "import os\n",
    "\n",
    "def download_audio_from_youtube(video_url, output_filename):\n",
    "    try:\n",
    "        # Step 1: Download the audio using yt-dlp\n",
    "        audio_file = 'temp_audio.m4a'\n",
    "        command = ['yt-dlp', '-f', 'bestaudio', '--extract-audio', '--audio-format', 'm4a', '-o', audio_file, video_url]\n",
    "        subprocess.run(command, check=True)\n",
    "        \n",
    "        # Step 2: Convert the downloaded audio to WAV using ffmpeg\n",
    "        command = ['ffmpeg', '-i', audio_file, output_filename]\n",
    "        subprocess.run(command, check=True)\n",
    "        \n",
    "        # Clean up temporary audio file\n",
    "        os.remove(audio_file)\n",
    "        \n",
    "        print(f'Audio has been downloaded and saved as {output_filename}')\n",
    "    except subprocess.CalledProcessError as e:\n",
    "        print(f'An error occurred during the subprocess execution: {e}')\n",
    "    except Exception as e:\n",
    "        print(f'An error occurred: {e}')\n",
    "\n",
    "# Replace 'video_url' with a valid YouTube video URL\n",
    "# video_url = 'https://youtu.be/DTcJmIbn5nw?si=RJN6X7BWr9jr7sp0'    #place the video url here\n",
    "# output_filename = 'AUDIO.wav'                    #location where audio is saved\n",
    "\n",
    "download_audio_from_youtube(video_url, output_filename)"
   ]
  },
  {
   "cell_type": "code",
   "execution_count": null,
   "metadata": {},
   "outputs": [],
   "source": [
    "import librosa\n",
    "import numpy as np\n",
    "\n",
    "# Load the audio file\n",
    "# y, sr = librosa.load('AUDIO.wav')                #location where audio is saved\n",
    "\n",
    "# Extract audio features\n",
    "# Pitch\n",
    "pitches, magnitudes = librosa.piptrack(y=y, sr=sr)\n",
    "pitch = np.mean(pitches[pitches > 0])\n",
    "\n",
    "# Tempo\n",
    "tempo, _ = librosa.beat.beat_track(y=y, sr=sr)\n",
    "\n",
    "# Zero-Crossing Rate\n",
    "zero_crossing_rate = np.mean(librosa.feature.zero_crossing_rate(y)[0])\n",
    "\n",
    "# Spectral Centroid\n",
    "spectral_centroid = np.mean(librosa.feature.spectral_centroid(y=y, sr=sr)[0])\n",
    "\n",
    "# Chroma Mean\n",
    "chroma_mean = np.mean(librosa.feature.chroma_stft(y=y, sr=sr), axis=1)"
   ]
  },
  {
   "cell_type": "code",
   "execution_count": null,
   "metadata": {},
   "outputs": [],
   "source": [
    "print(f'Pitch: {pitch}')\n",
    "print(f'Tempo (BPM): {tempo}')\n",
    "print(f'Zero-Crossing Rate: {zero_crossing_rate}')\n",
    "print(f'Spectral Centroid: {spectral_centroid}')\n",
    "print(f'Chroma Mean: {chroma_mean}')"
   ]
  },
  {
   "cell_type": "code",
   "execution_count": 119,
   "metadata": {},
   "outputs": [],
   "source": [
    "# Define emotions and their energy-based weights\n",
    "['Anger','Surprised','Happy','Neutral','Disgust', 'Fear', 'Sad' ]\n",
    "weights = [7,6,5,4,3,2,1] # Hypothetical weights based on energy"
   ]
  },
  {
   "cell_type": "code",
   "execution_count": null,
   "metadata": {},
   "outputs": [],
   "source": [
    "# Print each emotion along with its weight\n",
    "for emotion, weight in zip(emotions, weights):\n",
    "    print(f'Emotion: {emotion}, Weight: {weight}')\n",
    "\n",
    "# Calculate the total weight of all emotions\n",
    "total_weight = sum(weights)\n",
    "print(f'Total Weight: {total_weight}')\n",
    "\n",
    "# Find the emotion with the highest weight\n",
    "max_weight_index = weights.index(max(weights))\n",
    "max_emotion = emotions[max_weight_index]\n",
    "print(f'Emotion with Maximum Weight: {max_emotion}')"
   ]
  },
  {
   "cell_type": "code",
   "execution_count": null,
   "metadata": {},
   "outputs": [],
   "source": [
    "import numpy as np\n",
    "import pandas as pd\n",
    "import matplotlib.pyplot as plt\n",
    "import seaborn as sns\n",
    "\n",
    "# Define emotions and their weights\n",
    "emotions = ['Anger','Surprised','Happy','Neutral','Disgust', 'Fear', 'Sad' ]\n",
    "weights = [7,6,5,4,3,2,1]\n",
    "\n",
    "# Define audio features and their values\n",
    "audio_features = {\n",
    "    'Pitch': [1885.0869140625],\n",
    "    'Tempo (BPM)': [112.34714674],\n",
    "    'Zero-Crossing Rate': [0.19199533794045454],\n",
    "    'Spectral Centroid': [2907.1634658754288],\n",
    "    'Chroma Mean': [np.mean([0.40174642, 0.35858825, 0.35553306, 0.35822368, 0.32790217,\n",
    "                             0.33791435, 0.3739753,  0.38466904, 0.39902058, 0.41803277,\n",
    "                             0.4354073, 0.44042513])]\n",
    "}\n",
    "\n",
    "# Create a DataFrame for audio features\n",
    "df_audio = pd.DataFrame(audio_features)\n",
    "\n",
    "# Compute the correlation matrix based on weights and audio feature values\n",
    "correlation_matrix = np.zeros((len(emotions), len(df_audio.columns)))\n",
    "\n",
    "# Populate the correlation matrix using provided weights and feature values\n",
    "for i, emotion in enumerate(emotions):\n",
    "    for j, feature in enumerate(df_audio.columns):\n",
    "        if feature == 'Chroma Mean':\n",
    "            # Use the mean value for Chroma Mean feature\n",
    "            feature_value = df_audio[feature].iloc[0]\n",
    "        else:\n",
    "            # Use the single value for other features\n",
    "            feature_value = df_audio[feature].iloc[0]\n",
    "        # Compute correlation based on provided weights and feature values\n",
    "        correlation_matrix[i, j] = weights[i] * feature_value\n",
    "\n",
    "# Calculate the maximum absolute value in correlation_matrix for normalization\n",
    "max_abs_value = np.max(np.abs(correlation_matrix))\n",
    "\n",
    "# Normalize correlation_matrix between -1 and 1\n",
    "correlation_matrix_normalized = correlation_matrix / max_abs_value\n",
    "\n",
    "# Create a DataFrame for the normalized correlation matrix\n",
    "df_corr = pd.DataFrame(correlation_matrix_normalized, index=emotions, columns=df_audio.columns)\n",
    "\n",
    "# Set up the matplotlib figure\n",
    "plt.figure(figsize=(10, 8))\n",
    "\n",
    "# Plot the correlation matrix\n",
    "heatmap = sns.heatmap(df_corr, annot=True, cmap='coolwarm', vmin=-1, vmax=1, center=0, linewidths=.5, square=True)\n",
    "\n",
    "# Adjust ticks and labels to ensure equal scale\n",
    "plt.xticks(np.arange(len(df_audio.columns)) + 0.5, df_audio.columns, rotation=45)\n",
    "plt.yticks(np.arange(len(emotions)) + 0.5, emotions, rotation=0)\n",
    "plt.tick_params(axis='both', which='both', length=0)  # remove ticks\n",
    "\n",
    "# Add color bar using the mappable object returned by sns.heatmap\n",
    "cbar = heatmap.collections[0].colorbar\n",
    "cbar.set_label('Correlation')  # Add label to the color bar\n",
    "\n",
    "# Add title and show plot\n",
    "plt.title('Correlation Matrix Between Emotions and Audio Features')\n",
    "plt.tight_layout()\n",
    "plt.show()"
   ]
  }
 ],
 "metadata": {
  "kernelspec": {
   "display_name": "myenv",
   "language": "python",
   "name": "python3"
  },
  "language_info": {
   "codemirror_mode": {
    "name": "ipython",
    "version": 3
   },
   "file_extension": ".py",
   "mimetype": "text/x-python",
   "name": "python",
   "nbconvert_exporter": "python",
   "pygments_lexer": "ipython3",
   "version": "3.12.3"
  }
 },
 "nbformat": 4,
 "nbformat_minor": 2
}
