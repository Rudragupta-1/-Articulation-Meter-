{
 "cells": [
  {
   "cell_type": "code",
   "execution_count": null,
   "metadata": {},
   "outputs": [],
   "source": [
    "# Data manipulation libraries\n",
    "import pandas as pd\n",
    "import numpy as np\n",
    "\n",
    "# Data visualization libraries\n",
    "import matplotlib.pyplot as plt\n",
    "%matplotlib inline\n",
    "import matplotlib \n",
    "import seaborn as sns\n",
    "import plotly.express as px\n",
    "import plotly.graph_objects as go\n",
    "import mediapipe as mp\n",
    "\n",
    "# setting style and rcparams\n",
    "sns.set_style('darkgrid')\n",
    "matplotlib.rcParams['font.size'] = 14\n",
    "matplotlib.rcParams['figure.figsize'] = (7,4)\n",
    "matplotlib.rcParams['figure.facecolor'] = '#00000000'\n",
    "\n",
    "# Datatime library for Date columns\n",
    "from datetime import datetime\n",
    "import datetime as dt\n",
    "\n",
    "# for remove Multicollinearity\n",
    "from statsmodels.stats.outliers_influence import variance_inflation_factor\n",
    "\n",
    "# Preprocessing libraries\n",
    "from sklearn.preprocessing import StandardScaler\n",
    "from sklearn.preprocessing import MinMaxScaler\n",
    "from sklearn.preprocessing import OneHotEncoder\n",
    "from sklearn.preprocessing import OrdinalEncoder\n",
    "from sklearn.preprocessing import FunctionTransformer\n",
    "from sklearn.preprocessing import PowerTransformer\n",
    "\n",
    "# For build pipeline\n",
    "from sklearn.compose import ColumnTransformer\n",
    "from sklearn.pipeline import Pipeline\n",
    "from sklearn.pipeline import make_pipeline\n",
    "\n",
    "\n",
    "# Machine learning models\n",
    "from sklearn.linear_model import LinearRegression\n",
    "from sklearn.linear_model import Lasso\n",
    "from sklearn.linear_model import Ridge\n",
    "from sklearn.linear_model import ElasticNet\n",
    "from sklearn.tree import DecisionTreeRegressor\n",
    "\n",
    "from sklearn.ensemble import RandomForestRegressor, GradientBoostingRegressor, ExtraTreesRegressor, AdaBoostRegressor\n",
    "from sklearn.ensemble import VotingRegressor,StackingRegressor\n",
    "\n",
    "\n",
    "# for plot decision tree\n",
    "from sklearn import tree\n",
    "\n",
    "# Model selection libraries\n",
    "from sklearn.model_selection import cross_validate\n",
    "from sklearn.model_selection import train_test_split\n",
    "from sklearn.model_selection import GridSearchCV\n",
    "from sklearn.model_selection import cross_val_score\n",
    "from sklearn.model_selection import RepeatedStratifiedKFold\n",
    "from sklearn.model_selection import RandomizedSearchCV\n",
    "\n",
    "# importing XGB regressor\n",
    "from xgboost import XGBRegressor\n",
    "\n",
    "# Metrics libraries for model evaluation\n",
    "from sklearn import metrics\n",
    "from sklearn.metrics import r2_score\n",
    "from sklearn.metrics import mean_squared_error\n",
    "from sklearn.metrics import accuracy_score\n",
    "from sklearn.metrics import mean_absolute_error\n",
    "\n",
    "# Warnings module handles warnings in Python\n",
    "import warnings\n",
    "warnings.filterwarnings('ignore')"
   ]
  },
  {
   "cell_type": "code",
   "execution_count": null,
   "metadata": {},
   "outputs": [],
   "source": [
    "excel_file = 'ted _data.xlsx'\n",
    "sheet_name = 'Sheet1'\n",
    "df = pd.read_excel(excel_file, sheet_name=sheet_name)"
   ]
  },
  {
   "cell_type": "code",
   "execution_count": null,
   "metadata": {},
   "outputs": [],
   "source": [
    "# checking first 3 rows\n",
    "\n",
    "df.head(3)"
   ]
  },
  {
   "cell_type": "code",
   "execution_count": null,
   "metadata": {},
   "outputs": [],
   "source": [
    "# checking last 3 rows\n",
    "\n",
    "df.tail(3)"
   ]
  },
  {
   "cell_type": "code",
   "execution_count": null,
   "metadata": {},
   "outputs": [],
   "source": [
    "# checking random sample of rows\n",
    "\n",
    "df.sample(3)"
   ]
  },
  {
   "cell_type": "code",
   "execution_count": null,
   "metadata": {},
   "outputs": [],
   "source": [
    "#check information about all columns\n",
    "\n",
    "df.info()"
   ]
  },
  {
   "cell_type": "code",
   "execution_count": null,
   "metadata": {},
   "outputs": [],
   "source": [
    "len(df)"
   ]
  },
  {
   "cell_type": "code",
   "execution_count": null,
   "metadata": {},
   "outputs": [],
   "source": [
    "# check null values\n",
    "\n",
    "df.isnull().sum()"
   ]
  },
  {
   "cell_type": "code",
   "execution_count": null,
   "metadata": {},
   "outputs": [],
   "source": [
    "#checking duplicated values\n",
    "\n",
    "df.duplicated().sum()"
   ]
  },
  {
   "cell_type": "code",
   "execution_count": null,
   "metadata": {},
   "outputs": [],
   "source": [
    "# describe the numerical dataset\n",
    "\n",
    "df.describe().T"
   ]
  },
  {
   "cell_type": "code",
   "execution_count": null,
   "metadata": {},
   "outputs": [],
   "source": [
    "df.describe(percentiles=[.25,.50,.75,.80,.85,.90,.95,.96,.97,.98,.99])"
   ]
  },
  {
   "cell_type": "code",
   "execution_count": null,
   "metadata": {},
   "outputs": [],
   "source": [
    "tedtalks_df = df.copy()"
   ]
  },
  {
   "cell_type": "code",
   "execution_count": null,
   "metadata": {},
   "outputs": [],
   "source": [
    "tedtalks_df.head(3)"
   ]
  },
  {
   "cell_type": "code",
   "execution_count": null,
   "metadata": {},
   "outputs": [],
   "source": [
    "# fill missing value we focus more on feature engineering part.\n",
    "\n",
    "values = {'transcript':'no data' , 'likes' : 'no data'}\n",
    "\n",
    "tedtalks_df = tedtalks_df.fillna(value=values)\n"
   ]
  },
  {
   "cell_type": "code",
   "execution_count": null,
   "metadata": {},
   "outputs": [],
   "source": [
    "\n",
    "tedtalks_df.isnull().sum()"
   ]
  },
  {
   "cell_type": "code",
   "execution_count": null,
   "metadata": {},
   "outputs": [],
   "source": [
    "# change data-types of columns\n",
    "\n",
    "tedtalks_df = tedtalks_df.astype({'views':'int32', 'duration':'int32'})\n",
    "tedtalks_df['published_date']= pd.to_datetime(tedtalks_df['published_date'])\n",
    "tedtalks_df['published_date'] = tedtalks_df['published_date'].dt.tz_localize(None)\n",
    "tedtalks_df['recorded_date']= pd.to_datetime(tedtalks_df['recorded_date'])\n",
    "tedtalks_df['recorded_date'] = tedtalks_df['recorded_date'].dt.tz_localize(None)"
   ]
  },
  {
   "cell_type": "code",
   "execution_count": null,
   "metadata": {},
   "outputs": [],
   "source": [
    "def convert_likes(likes_str):\n",
    "    # print(type(likes_str))\n",
    "    if likes_str == 'no data':\n",
    "        return 0\n",
    "    if type(likes_str) == int:\n",
    "        return likes_str\n",
    "    if type(likes_str) == float:\n",
    "        return int(likes_str)\n",
    "    elif 'K' in likes_str:\n",
    "        # print(int(float(likes_str.replace('K', '')) * 1000))\n",
    "        return int(float(likes_str.replace('K', '')) * 1000)\n",
    "    elif 'M' in likes_str:\n",
    "        return int(float(likes_str.replace('M', '')) * 1000000)\n",
    "    else:\n",
    "        return int(likes_str)\n",
    "\n",
    "# Apply the function to the 'likes' column\n",
    "tedtalks_df['likes'] = tedtalks_df['likes'].apply(convert_likes)"
   ]
  },
  {
   "cell_type": "code",
   "execution_count": null,
   "metadata": {},
   "outputs": [],
   "source": [
    "tedtalks_df.info()\n",
    "tedtalks_df.to_excel('tedtalks_df_output_excel_file_unremoved.xlsx', index=False)"
   ]
  },
  {
   "cell_type": "code",
   "execution_count": null,
   "metadata": {},
   "outputs": [],
   "source": [
    "tedtalks_df.head(3)"
   ]
  },
  {
   "cell_type": "code",
   "execution_count": null,
   "metadata": {},
   "outputs": [],
   "source": [
    "tedtalks_df.shape"
   ]
  },
  {
   "cell_type": "code",
   "execution_count": null,
   "metadata": {},
   "outputs": [],
   "source": [
    "# remove columns\n",
    "tedtalks_df.drop(['page_url', 'related_videos', 'summary','topics','transcript'], axis=1, inplace=True)"
   ]
  },
  {
   "cell_type": "code",
   "execution_count": null,
   "metadata": {},
   "outputs": [],
   "source": [
    "tedtalks_df.head(3)"
   ]
  },
  {
   "cell_type": "code",
   "execution_count": null,
   "metadata": {},
   "outputs": [],
   "source": [
    "# Function to extract speaker name from the JSON-like string\n",
    "import json\n",
    "def extract_speaker_name(speakers_data):\n",
    "    try:\n",
    "        # If speakers_data is a string, convert it to a list of dictionaries\n",
    "        if isinstance(speakers_data, str):\n",
    "            speakers_list = json.loads(speakers_data)\n",
    "        else:\n",
    "            speakers_list = speakers_data\n",
    "\n",
    "        # Check if the list is not empty\n",
    "        if speakers_list:\n",
    "            # Extract the first dictionary from the list\n",
    "            first_speaker = speakers_list[0]\n",
    "\n",
    "            # Extract the 'name' key from the dictionary\n",
    "            name = first_speaker.get('name')\n",
    "\n",
    "            # Return the name\n",
    "            return name\n",
    "    except (json.JSONDecodeError, IndexError, TypeError, AttributeError, KeyError):\n",
    "        return None\n",
    "\n",
    "\n",
    "# Apply the function to the 'speaker' column to extract speaker names\n",
    "tedtalks_df['speakers'] = tedtalks_df['speakers'].apply(extract_speaker_name)\n"
   ]
  },
  {
   "cell_type": "code",
   "execution_count": null,
   "metadata": {},
   "outputs": [],
   "source": [
    "tedtalks_df.sample(1)"
   ]
  },
  {
   "cell_type": "code",
   "execution_count": null,
   "metadata": {},
   "outputs": [],
   "source": [
    "tedtalks_df.to_excel('tedtalks_df_output_excel_file.xlsx', index=False)"
   ]
  },
  {
   "cell_type": "code",
   "execution_count": null,
   "metadata": {},
   "outputs": [],
   "source": [
    "# find popular talk show titles and speakers based on views\n",
    "\n",
    "pop_talk = tedtalks_df[['title', 'speakers', 'views']].sort_values('views', ascending=False)[0:15]\n",
    "pop_talk"
   ]
  },
  {
   "cell_type": "markdown",
   "metadata": {},
   "source": [
    "### **`speaker`**"
   ]
  },
  {
   "cell_type": "code",
   "execution_count": null,
   "metadata": {},
   "outputs": [],
   "source": [
    "# create a dataframe with top 15 speakers by views\n",
    "top15_views = tedtalks_df.groupby('speakers').views.sum().nlargest(15)\n",
    "top15_views = top15_views.reset_index()\n",
    "\n",
    "# create the figure and subplots\n",
    "fig, axs = plt.subplots(figsize=(18,12))\n",
    "\n",
    "# create a barplot with top 15 speakers by views\n",
    "sns.barplot(x='views', y='speakers', data=top15_views)\n",
    "axs.set_title('Top 15 Speakers by Views')\n",
    "\n",
    "plt.tight_layout()\n",
    "plt.show()\n"
   ]
  },
  {
   "cell_type": "code",
   "execution_count": null,
   "metadata": {},
   "outputs": [],
   "source": [
    "# unique speakers count of TEDX\n",
    "\n",
    "len(tedtalks_df['speakers'].unique())"
   ]
  },
  {
   "cell_type": "code",
   "execution_count": null,
   "metadata": {},
   "outputs": [],
   "source": [
    "plt.figure(figsize=(10,6))\n",
    "sns.scatterplot(x='likes', y='views', data=tedtalks_df)"
   ]
  },
  {
   "cell_type": "code",
   "execution_count": null,
   "metadata": {},
   "outputs": [],
   "source": [
    "# check distribution of views column\n",
    "\n",
    "plt.figure(figsize=(10,5))\n",
    "sns.distplot(tedtalks_df['views'], color ='green')"
   ]
  },
  {
   "cell_type": "code",
   "execution_count": null,
   "metadata": {},
   "outputs": [],
   "source": [
    "# check distribution of duration column\n",
    "\n",
    "plt.figure(figsize=(10,5))\n",
    "sns.distplot(tedtalks_df['duration'], color ='red')"
   ]
  },
  {
   "cell_type": "code",
   "execution_count": null,
   "metadata": {},
   "outputs": [],
   "source": [
    "# check correlation of duration and views using scatter plot\n",
    "\n",
    "plt.figure(figsize=(10,6))\n",
    "sns.scatterplot(x='duration', y='views', data=tedtalks_df)"
   ]
  },
  {
   "cell_type": "markdown",
   "metadata": {},
   "source": [
    "- **observations :-**\n",
    "\n",
    "- From the above graph it is clear that duration and views columns are not    correlated to each other.\n",
    "- in duration column also some outlier there."
   ]
  },
  {
   "cell_type": "code",
   "execution_count": null,
   "metadata": {},
   "outputs": [],
   "source": [
    "# checking duration and views columns Outliers using boxplot\n",
    "\n",
    "columns = ['views', 'duration']\n",
    "n = 1\n",
    "plt.figure(figsize=(18,12))\n",
    "\n",
    "for i in columns:\n",
    "  plt.subplot(3,3,n)\n",
    "  n=n+1\n",
    "  sns.boxplot(tedtalks_df[i])\n",
    "  plt.title(i)\n",
    "  plt.tight_layout()"
   ]
  },
  {
   "cell_type": "code",
   "execution_count": null,
   "metadata": {},
   "outputs": [],
   "source": [
    "# treatment outliers by mean\n",
    "\n",
    "columns = ['views', 'duration']\n",
    "\n",
    "for i in columns:\n",
    "  iqr =  tedtalks_df[i].quantile(0.75)-tedtalks_df[i].quantile(0.25)\n",
    "  tedtalks_df[i] = tedtalks_df[i].mask(tedtalks_df[i]>(tedtalks_df[i].quantile(0.75)+1.5*iqr), tedtalks_df[i].mean())"
   ]
  },
  {
   "cell_type": "code",
   "execution_count": null,
   "metadata": {},
   "outputs": [],
   "source": [
    "#let's see the numerical column again after treating outliers\n",
    "\n",
    "columns = ['views', 'duration']\n",
    "n = 1\n",
    "plt.figure(figsize=(18,12))\n",
    "\n",
    "for i in columns:\n",
    "  plt.subplot(3,3,n)\n",
    "  n=n+1\n",
    "  sns.boxplot(tedtalks_df[i])\n",
    "  plt.title(i)\n",
    "  plt.tight_layout()"
   ]
  },
  {
   "cell_type": "code",
   "execution_count": null,
   "metadata": {},
   "outputs": [],
   "source": [
    "# after fill outliers with mean... distribution graph of columns views and duration\n",
    "\n",
    "fig, axs = plt.subplots(1, 2, figsize=(15, 5))\n",
    "\n",
    "sns.distplot(tedtalks_df['views'], color='green', ax=axs[0])\n",
    "axs[0].set_title('Distribution of Views')\n",
    "\n",
    "sns.distplot(tedtalks_df['duration'], color='red', ax=axs[1])\n",
    "axs[1].set_title('Distribution of Duration')\n",
    "\n",
    "\n",
    "plt.tight_layout()\n",
    "plt.show()"
   ]
  },
  {
   "cell_type": "code",
   "execution_count": null,
   "metadata": {},
   "outputs": [],
   "source": [
    "# change duration in sec. to min.\n",
    "\n",
    "tedtalks_df['duration'] = tedtalks_df['duration'] / 60"
   ]
  },
  {
   "cell_type": "code",
   "execution_count": null,
   "metadata": {},
   "outputs": [],
   "source": [
    "# plot 3D scatter plot of comments, duration and our target column views using plotly library.\n",
    "\n",
    "fig = px.scatter_3d(tedtalks_df, x=tedtalks_df['duration'], y=tedtalks_df['likes'], z=tedtalks_df['views'])\n",
    "\n",
    "fig.show()"
   ]
  },
  {
   "cell_type": "code",
   "execution_count": null,
   "metadata": {},
   "outputs": [],
   "source": [
    "# Create a new column 'speaker_popularity' in the main DataFrame and assign the categories\n",
    "\n",
    "tedtalks_df['speaker_popularity'] = \"\"\n",
    "tedtalks_df.loc[tedtalks_df['views'] <= 500000, 'speaker_popularity'] = 'not_popular'\n",
    "tedtalks_df.loc[(tedtalks_df['views'] > 500000) & (tedtalks_df['views'] <= 1500000), 'speaker_popularity'] = 'avg_popular'\n",
    "tedtalks_df.loc[(tedtalks_df['views'] > 1500000) & (tedtalks_df['views'] <= 2500000), 'speaker_popularity'] = 'popular'\n",
    "tedtalks_df.loc[(tedtalks_df['views'] > 2500000) & (tedtalks_df['views'] <= 3500000), 'speaker_popularity'] = 'high_popular'\n",
    "tedtalks_df.loc[tedtalks_df['views'] > 3500000, 'speaker_popularity'] = 'extreme_popular'\n",
    "\n",
    "# check the dataset\n",
    "\n",
    "tedtalks_df.sample(2)"
   ]
  },
  {
   "cell_type": "code",
   "execution_count": null,
   "metadata": {},
   "outputs": [],
   "source": [
    "plt.figure(figsize=(18,6))\n",
    "sns.barplot(data=tedtalks_df, x='speaker_popularity', y='views', \n",
    "            order=['not_popular', 'avg_popular', 'popular', 'high_popular', 'extreme_popular'])\n"
   ]
  },
  {
   "cell_type": "markdown",
   "metadata": {},
   "source": [
    "### **`subtitle_languages`**"
   ]
  },
  {
   "cell_type": "code",
   "execution_count": null,
   "metadata": {},
   "outputs": [],
   "source": [
    "tedtalks_df.head(4)"
   ]
  },
  {
   "cell_type": "code",
   "execution_count": null,
   "metadata": {},
   "outputs": [],
   "source": [
    "# Function to extract subtitle language number from the JSON-like string\n",
    "import json\n",
    "def extract_languages_count(lang_data):\n",
    "    try:\n",
    "        # If speakers_data is a string, convert it to a list of dictionaries\n",
    "        if isinstance(lang_data, str):\n",
    "            speakers_list = json.loads(lang_data)\n",
    "        else:\n",
    "            speakers_list = lang_data\n",
    "\n",
    "        # Check if the list is not empty\n",
    "        if speakers_list:\n",
    "            return int(len(speakers_list))\n",
    "    except (json.JSONDecodeError, IndexError, TypeError, AttributeError, KeyError):\n",
    "        return 0\n",
    "\n",
    "\n",
    "# Apply the function to the 'subtitle' column to extract subtitle languages count\n",
    "tedtalks_df['subtitle_languages'] = tedtalks_df['subtitle_languages'].apply(extract_languages_count)\n"
   ]
  },
  {
   "cell_type": "code",
   "execution_count": null,
   "metadata": {},
   "outputs": [],
   "source": [
    "tedtalks_df.head(3)"
   ]
  },
  {
   "cell_type": "code",
   "execution_count": null,
   "metadata": {},
   "outputs": [],
   "source": [
    "tedtalks_df.info()"
   ]
  },
  {
   "cell_type": "code",
   "execution_count": null,
   "metadata": {},
   "outputs": [],
   "source": [
    "tedtalks_df.to_excel('tedtalks_df_output_excel_file_processed.xlsx', index=False)"
   ]
  },
  {
   "cell_type": "code",
   "execution_count": null,
   "metadata": {},
   "outputs": [],
   "source": [
    "# add new column available_languages using existing column available_lang\n",
    "\n",
    "pd.DataFrame(tedtalks_df['subtitle_languages'])"
   ]
  },
  {
   "cell_type": "code",
   "execution_count": null,
   "metadata": {},
   "outputs": [],
   "source": [
    "# check the distribution of this new column available_languages\n",
    "\n",
    "plt.figure(figsize=(8,6))\n",
    "sns.distplot(tedtalks_df['subtitle_languages'],color = 'darkblue')\n",
    "plt.show()"
   ]
  },
  {
   "cell_type": "code",
   "execution_count": null,
   "metadata": {},
   "outputs": [],
   "source": [
    "# Making seperate column for day, month and year of upload\n",
    "\n",
    "tedtalks_df['published_year'] = tedtalks_df['published_date'].dt.year\n",
    "tedtalks_df['published_month'] = tedtalks_df['published_date'].dt.month\n",
    "tedtalks_df['published_day'] = tedtalks_df[\"published_date\"].dt.day_name()\n",
    "\n",
    "# storing weekdays in order of numbers from 0 to 6 value\n",
    "\n",
    "daydict = {'Sunday' : 0, 'Monday' : 1, 'Tuesday':2,'Wednesday':3,'Thursday':4,'Friday':5,'Saturday':6}\n",
    "\n",
    "# making new column holding information of day number\n",
    "\n",
    "tedtalks_df['published_daynumber'] = tedtalks_df['published_day'].map(daydict)"
   ]
  },
  {
   "cell_type": "code",
   "execution_count": null,
   "metadata": {},
   "outputs": [],
   "source": [
    "# add one more column published_months_ago\n",
    "\n",
    "tedtalks_df['published_months_ago'] = ((2024 - tedtalks_df['published_year'])*12 + tedtalks_df['published_month'])"
   ]
  },
  {
   "cell_type": "code",
   "execution_count": null,
   "metadata": {},
   "outputs": [],
   "source": [
    "tedtalks_df.head(3)"
   ]
  },
  {
   "cell_type": "code",
   "execution_count": null,
   "metadata": {},
   "outputs": [],
   "source": [
    "# there are lot of TED events\n",
    "\n",
    "print(tedtalks_df['event'].value_counts().head(10))"
   ]
  },
  {
   "cell_type": "code",
   "execution_count": null,
   "metadata": {},
   "outputs": [],
   "source": [
    "tedtalks_df = tedtalks_df.astype({\n",
    "    'speaker_popularity': 'category',\n",
    "    'published_day': 'category',\n",
    "    'event': 'category'\n",
    "})"
   ]
  },
  {
   "cell_type": "code",
   "execution_count": null,
   "metadata": {},
   "outputs": [],
   "source": [
    "tedtalks_df.info()"
   ]
  },
  {
   "cell_type": "code",
   "execution_count": null,
   "metadata": {},
   "outputs": [],
   "source": [
    "tedtalks_df.to_excel('tedtalks_df_output_excel_file_processed_last.xlsx', index=False)"
   ]
  },
  {
   "cell_type": "code",
   "execution_count": null,
   "metadata": {},
   "outputs": [],
   "source": [
    "# dropping unneccessary columns\n",
    "\n",
    "tedtalks_df.drop(labels = [\"speakers\", \"youtube_video_code\", \"title\"],axis = 1, inplace = True)"
   ]
  },
  {
   "cell_type": "code",
   "execution_count": null,
   "metadata": {},
   "outputs": [],
   "source": [
    "#  \"recorded_date\", \"published_date\"\n",
    " # dropping unneccessary columns\n",
    "\n",
    "tedtalks_df.drop(labels = [\"recorded_date\", \"published_date\"],axis = 1, inplace = True)"
   ]
  },
  {
   "cell_type": "code",
   "execution_count": null,
   "metadata": {},
   "outputs": [],
   "source": [
    "tedtalks_df.drop(labels = [\"event\"],axis = 1, inplace = True)"
   ]
  },
  {
   "cell_type": "code",
   "execution_count": null,
   "metadata": {},
   "outputs": [],
   "source": [
    "tedtalks_df.drop(labels = [\"published_day\"],axis = 1, inplace = True)"
   ]
  },
  {
   "cell_type": "code",
   "execution_count": null,
   "metadata": {},
   "outputs": [],
   "source": [
    "import pandas as pd\n",
    "import matplotlib.pyplot as plt\n",
    "import seaborn as sns\n",
    "\n",
    "\n",
    "# Select only numeric columns\n",
    "numeric_df = tedtalks_df.select_dtypes(include=[float, int])\n",
    "\n",
    "# Alternatively, if you want to include categorical data, use one-hot encoding\n",
    "# processed_df = pd.get_dummies(tedtalks_df)\n",
    "# correlmap = processed_df.corr()\n",
    "\n",
    "# Calculate the correlation matrix on the numeric DataFrame\n",
    "correlmap = numeric_df.corr()\n",
    "\n",
    "# Set up the matplotlib figure\n",
    "f, ax = plt.subplots(figsize=(10, 8))\n",
    "\n",
    "# Draw the heatmap with the mask and correct aspect ratio\n",
    "sns.heatmap(correlmap, annot=True, fmt='.2f', cmap='coolwarm', ax=ax)\n",
    "\n",
    "# Show the plot\n",
    "plt.show()"
   ]
  }
 ],
 "metadata": {
  "kernelspec": {
   "display_name": "Python 3",
   "language": "python",
   "name": "python3"
  },
  "language_info": {
   "codemirror_mode": {
    "name": "ipython",
    "version": 3
   },
   "file_extension": ".py",
   "mimetype": "text/x-python",
   "name": "python",
   "nbconvert_exporter": "python",
   "pygments_lexer": "ipython3",
   "version": "3.10.12"
  }
 },
 "nbformat": 4,
 "nbformat_minor": 2
}
