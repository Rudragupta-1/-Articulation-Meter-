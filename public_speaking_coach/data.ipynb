{
 "cells": [
  {
   "cell_type": "code",
   "execution_count": 1,
   "metadata": {},
   "outputs": [
    {
     "name": "stdout",
     "output_type": "stream",
     "text": [
      "Top 15 entries sorted by views have been saved to /home/koyilada-keerti/Documents/GitHub/Articulation-Meter/Project Files/top_15_views.xlsx\n"
     ]
    }
   ],
   "source": [
    "import pandas as pd\n",
    "\n",
    "# Load the Excel data\n",
    "data_path = '/home/koyilada-keerti/Documents/GitHub/Articulation-Meter/Project Files/final_btp_analysis.xlsx'\n",
    "df = pd.read_excel(data_path)\n",
    "\n",
    "# Sort the dataframe by the 'views' column in descending order and get the top 15 entries\n",
    "top_15_views = df.sort_values(by='views', ascending=False).head(15)\n",
    "\n",
    "# Save the sorted dataframe to a new Excel file\n",
    "output_path = '/home/koyilada-keerti/Documents/GitHub/Articulation-Meter/Project Files/top_15_views.xlsx'\n",
    "top_15_views.to_excel(output_path, index=False)\n",
    "\n",
    "print(f'Top 15 entries sorted by views have been saved to {output_path}')\n"
   ]
  }
 ],
 "metadata": {
  "kernelspec": {
   "display_name": "my_env",
   "language": "python",
   "name": "python3"
  },
  "language_info": {
   "codemirror_mode": {
    "name": "ipython",
    "version": 3
   },
   "file_extension": ".py",
   "mimetype": "text/x-python",
   "name": "python",
   "nbconvert_exporter": "python",
   "pygments_lexer": "ipython3",
   "version": "3.12.3"
  }
 },
 "nbformat": 4,
 "nbformat_minor": 2
}
